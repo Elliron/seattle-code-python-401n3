{
 "cells": [
  {
   "cell_type": "markdown",
   "source": [
    "# Welcome to my Notebook"
   ],
   "metadata": {}
  },
  {
   "cell_type": "code",
   "execution_count": 43,
   "source": [
    "import numpy as np\n",
    "import matplotlib.pyplot as plt"
   ],
   "outputs": [],
   "metadata": {}
  },
  {
   "cell_type": "code",
   "execution_count": 28,
   "source": [
    "# message = 'Hello World'\n",
    "# print(message)\n",
    "# user_name = 'Roger'"
   ],
   "outputs": [],
   "metadata": {}
  },
  {
   "cell_type": "code",
   "execution_count": 29,
   "source": [
    "# print(f'{message} {user_name}!')"
   ],
   "outputs": [],
   "metadata": {}
  },
  {
   "cell_type": "code",
   "execution_count": 30,
   "source": [
    "# grid = np.ones((8,8,3))"
   ],
   "outputs": [],
   "metadata": {}
  },
  {
   "cell_type": "code",
   "execution_count": 31,
   "source": [
    "# def render():\n",
    "#     plt.imshow(grid)"
   ],
   "outputs": [],
   "metadata": {}
  },
  {
   "cell_type": "code",
   "execution_count": 32,
   "source": [
    "# grid[0][0] = (1,1,1)\n",
    "# render()\n"
   ],
   "outputs": [],
   "metadata": {}
  },
  {
   "cell_type": "code",
   "execution_count": 33,
   "source": [
    "# grid[1][1] = (0,0,0)\n",
    "# render()"
   ],
   "outputs": [],
   "metadata": {}
  },
  {
   "cell_type": "code",
   "execution_count": 34,
   "source": [
    "# grid[1][1] = (0,0,0)\n",
    "# render()"
   ],
   "outputs": [],
   "metadata": {}
  },
  {
   "cell_type": "code",
   "execution_count": 35,
   "source": [
    "# grid[1][1] = (0,1,0)"
   ],
   "outputs": [],
   "metadata": {}
  },
  {
   "cell_type": "code",
   "execution_count": 36,
   "source": [
    "# grid[0][0] = (0,1,0)\n",
    "# grid[1][1] = (0,1,0)\n",
    "# grid[2][2] = (0,1,0)\n",
    "# grid[3][3] = (0,1,0)\n",
    "# grid[4][4] = (0,1,0)\n",
    "# grid[5][5] = (0,1,0)\n",
    "# grid[6][6] = (0,1,0)\n",
    "# grid[7][7] = (0,1,0)\n",
    "# render()"
   ],
   "outputs": [],
   "metadata": {}
  },
  {
   "cell_type": "code",
   "execution_count": 37,
   "source": [
    "# render()"
   ],
   "outputs": [],
   "metadata": {}
  },
  {
   "cell_type": "code",
   "execution_count": 38,
   "source": [
    "# green = (0, 1, 0)\n",
    "# for i in range(8):\n",
    "#     grid[i][i] = green\n",
    "# render()"
   ],
   "outputs": [],
   "metadata": {}
  },
  {
   "cell_type": "code",
   "execution_count": 39,
   "source": [
    "# class Board:\n",
    "\n",
    "#     def __init__(self):\n",
    "#         self.grid = np.ones((8,8,3))\n",
    "#         for coords in np.ndindex(8,8):\n",
    "#             row = coords[0] \n",
    "#             col = coords[1]\n",
    "#             if row % 2 != col % 2:\n",
    "#                 self.grid[row, col] = (0,0,0)\n",
    "\n",
    "#     def add_red(self, row, col):\n",
    "#         red = (1,.2,0)\n",
    "#         self.grid[row, col] = self.red\n",
    "\n",
    "#     def add_blue(self, row, col):\n",
    "#         blue = (0,1,1)\n",
    "#         self.grid[row, col] = self.blue\n",
    "\n",
    "#     def render(self):\n",
    "#         plt.imshow(self.grid)\n",
    "\n",
    "#     def is_under_attack(self):\n",
    "#         pass\n"
   ],
   "outputs": [],
   "metadata": {}
  },
  {
   "cell_type": "code",
   "execution_count": 44,
   "source": [
    "# board = Board()\n",
    "# board.render()\n",
    "# board.add_blue(2, 4)"
   ],
   "outputs": [],
   "metadata": {}
  },
  {
   "cell_type": "code",
   "execution_count": 41,
   "source": [
    "# board = Board()\n",
    "# board.add_red()\n",
    "# board.add_blue()\n",
    "# board.render()\n",
    "# assert not board.is_under_attack()\n",
    "# print('********* NOT UNDER ATTACK ********')"
   ],
   "outputs": [],
   "metadata": {}
  },
  {
   "cell_type": "code",
   "execution_count": 42,
   "source": [
    "# board = Board()\n",
    "# board.add_red()\n",
    "# board.add_blue()\n",
    "# board.render()\n",
    "# assert board.is_under_attack()\n",
    "# print('********* UNDER ATTACK ********')"
   ],
   "outputs": [],
   "metadata": {}
  },
  {
   "cell_type": "code",
   "execution_count": 65,
   "source": [
    "class Board:\n",
    "\n",
    "    red = (1,.2,0)\n",
    "    blue = (0,1,1)\n",
    "\n",
    "    def __init__(self):\n",
    "\n",
    "        self.grid = np.ones((8,8,3))\n",
    "        for coords in np.ndindex(8,8):\n",
    "            row = coords[0]\n",
    "            col = coords[1]\n",
    "            if row % 2 != col % 2:\n",
    "                self.grid[row, col] = (0,0,0)\n",
    "\n",
    "    def add_red(self, row, col):\n",
    "        self.grid[row][col] = self.red\n",
    "\n",
    "    def add_blue(self, row, col):\n",
    "        self.grid[row][col] = self.blue\n",
    "\n",
    "    def render(self):\n",
    "        plt.imshow(self.grid)\n",
    "\n",
    "    def is_under_attack(self):\n",
    "        red_coords = None\n",
    "        blue_coords = None\n",
    "    \n",
    "        for i,row in enumerate(self.grid):\n",
    "            for j,col in enumerate(row):\n",
    "                if np.array_equal(col,self.blue):\n",
    "                    blue_coords = (i,j)\n",
    "                if np.array_equal(col,self.red):\n",
    "                    red_coords = (i,j)\n",
    "    \n",
    "        if not blue_coords or not red_coords:\n",
    "            return False\n",
    "\n",
    "        if blue_coords[0] == red_coords[0]:\n",
    "            return True\n",
    "\n",
    "        if blue_coords[1] == red_coords[1]:\n",
    "            return True\n",
    "\n",
    "\n",
    "        dy = abs(blue_coords[0] - red_coords[0])\n",
    "        dx = abs(blue_coords[1] - red_coords[1])\n",
    "\n",
    "        return dx == dy\n",
    "\n"
   ],
   "outputs": [],
   "metadata": {}
  },
  {
   "cell_type": "code",
   "execution_count": 62,
   "source": [
    "board = Board()\n",
    "board.add_red(2, 7)\n",
    "board.add_blue(4,6)\n",
    "board.render()\n"
   ],
   "outputs": [
    {
     "output_type": "display_data",
     "data": {
      "text/plain": [
       "<Figure size 432x288 with 1 Axes>"
      ],
      "image/png": "[encoded data removed]"
     },
     "metadata": {
      "needs_background": "light"
     }
    }
   ],
   "metadata": {}
  },
  {
   "cell_type": "code",
   "execution_count": 69,
   "source": [
    "board = Board()\n",
    "board.add_red(2,4)\n",
    "board.add_blue(3,7)\n",
    "board.render()\n",
    "assert not board.is_under_attack()\n",
    "print('********* NOT UNDER ATTACK ********')"
   ],
   "outputs": [
    {
     "output_type": "stream",
     "name": "stdout",
     "text": [
      "********* NOT UNDER ATTACK ********\n"
     ]
    },
    {
     "output_type": "display_data",
     "data": {
      "text/plain": [
       "<Figure size 432x288 with 1 Axes>"
      ],
      "image/png": "[encoded data removed]"
     },
     "metadata": {
      "needs_background": "light"
     }
    }
   ],
   "metadata": {}
  },
  {
   "cell_type": "code",
   "execution_count": 70,
   "source": [
    "board = Board()\n",
    "board.add_red(3,4)\n",
    "board.add_blue(3,7)\n",
    "board.render()\n",
    "assert board.is_under_attack()\n",
    "print('********* UNDER ATTACK ********')"
   ],
   "outputs": [
    {
     "output_type": "stream",
     "name": "stdout",
     "text": [
      "********* UNDER ATTACK ********\n"
     ]
    },
    {
     "output_type": "display_data",
     "data": {
      "text/plain": [
       "<Figure size 432x288 with 1 Axes>"
      ],
      "image/png": "[encoded data removed]"
     },
     "metadata": {
      "needs_background": "light"
     }
    }
   ],
   "metadata": {}
  },
  {
   "cell_type": "code",
   "execution_count": 71,
   "source": [
    "board = Board()\n",
    "board.add_red(3,4)\n",
    "board.add_blue(5,6)\n",
    "board.render()\n",
    "assert board.is_under_attack()\n",
    "print('********* UNDER ATTACK ********')"
   ],
   "outputs": [
    {
     "output_type": "stream",
     "name": "stdout",
     "text": [
      "********* UNDER ATTACK ********\n"
     ]
    },
    {
     "output_type": "display_data",
     "data": {
      "text/plain": [
       "<Figure size 432x288 with 1 Axes>"
      ],
      "image/png": "[encoded data removed]"
     },
     "metadata": {
      "needs_background": "light"
     }
    }
   ],
   "metadata": {}
  }
 ],
 "metadata": {
  "kernelspec": {
   "display_name": "Python 3 (ipykernel)",
   "language": "python",
   "name": "python3"
  },
  "language_info": {
   "codemirror_mode": {
    "name": "ipython",
    "version": 3
   },
   "file_extension": ".py",
   "mimetype": "text/x-python",
   "name": "python",
   "nbconvert_exporter": "python",
   "pygments_lexer": "ipython3",
   "version": "3.9.5"
  }
 },
 "nbformat": 4,
 "nbformat_minor": 5
}